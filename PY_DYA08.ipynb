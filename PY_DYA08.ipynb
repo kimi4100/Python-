{
 "cells": [
  {
   "cell_type": "code",
   "execution_count": 1,
   "metadata": {},
   "outputs": [],
   "source": [
    "import numpy as np "
   ]
  },
  {
   "cell_type": "code",
   "execution_count": 2,
   "metadata": {},
   "outputs": [],
   "source": [
    "name_list = ['小明','小華','小菁','小美','小張','John','Mark','Tom']\n",
    "sex_list = ['boy','boy','girl','girl','boy','boy','boy','boy']\n",
    "weight_list = [67.5,75.3,50.1,45.5,80.8,90.4,78.4,70.7]\n",
    "rank_list = [8,1,5,4,7,6,2,3]\n",
    "myopia_list = [True,True,False,False,True,True,False,False]"
   ]
  },
  {
   "cell_type": "code",
   "execution_count": 6,
   "metadata": {},
   "outputs": [
    {
     "name": "stdout",
     "output_type": "stream",
     "text": [
      "[('小明', 'boy', 67.5, 8,  True) ('小華', 'boy', 75.3, 1,  True)\n",
      " ('小菁', 'girl', 50.1, 5, False) ('小美', 'girl', 45.5, 4, False)\n",
      " ('小張', 'boy', 80.8, 7,  True) ('John', 'boy', 90.4, 6,  True)\n",
      " ('Mark', 'boy', 78.4, 2, False) ('Tom', 'boy', 70.7, 3, False)]\n"
     ]
    }
   ],
   "source": [
    "#1. 將上列list依照['name', 'sex', 'weight', 'rank', 'myopia']順序擺入array，並且資料型態順序擺入[Unicode,Unicode,float,int,boolean]\n",
    "dt = np.dtype({'names':('name','sex','weight','rank','myopia'), 'formats':('U8','U8','f','i','?')})\n",
    "a = np.zeros(8,dtype = dt)\n",
    "a['name'] = name_list\n",
    "a['sex'] = sex_list\n",
    "a['weight'] = weight_list\n",
    "a['rank'] = rank_list\n",
    "a['myopia'] = myopia_list\n",
    "print(a)"
   ]
  },
  {
   "cell_type": "code",
   "execution_count": 11,
   "metadata": {},
   "outputs": [
    {
     "name": "stdout",
     "output_type": "stream",
     "text": [
      "the average weight is  69.8375\n"
     ]
    }
   ],
   "source": [
    "#2. 呈上題，將array中體重(weight)數據集取出算出全部平均體重\n",
    "print('the average weight is ',np.mean(a['weight']))"
   ]
  },
  {
   "cell_type": "code",
   "execution_count": 15,
   "metadata": {},
   "outputs": [
    {
     "name": "stdout",
     "output_type": "stream",
     "text": [
      "the average weight of boys is  77.18333\n"
     ]
    }
   ],
   "source": [
    "#3. 呈上題，進一步算出男生(sex欄位是boy)平均體重\n",
    "print('the average weight of boys is ',np.mean(a [ a['sex'] == 'boy']['weight']))"
   ]
  },
  {
   "cell_type": "code",
   "execution_count": 16,
   "metadata": {},
   "outputs": [
    {
     "name": "stdout",
     "output_type": "stream",
     "text": [
      "the average weight of girls is  47.8\n"
     ]
    }
   ],
   "source": [
    "#3. 呈上題，進一步算出女生(sex欄位是girl)平均體重\n",
    "print('the average weight of girls is ',np.mean(a [ a['sex'] == 'girl']['weight']))"
   ]
  },
  {
   "cell_type": "code",
   "execution_count": null,
   "metadata": {},
   "outputs": [],
   "source": []
  }
 ],
 "metadata": {
  "kernelspec": {
   "display_name": "Python 3",
   "language": "python",
   "name": "python3"
  },
  "language_info": {
   "codemirror_mode": {
    "name": "ipython",
    "version": 3
   },
   "file_extension": ".py",
   "mimetype": "text/x-python",
   "name": "python",
   "nbconvert_exporter": "python",
   "pygments_lexer": "ipython3",
   "version": "3.7.4"
  }
 },
 "nbformat": 4,
 "nbformat_minor": 2
}
