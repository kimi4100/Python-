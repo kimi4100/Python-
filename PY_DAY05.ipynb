{
 "cells": [
  {
   "cell_type": "code",
   "execution_count": 1,
   "metadata": {},
   "outputs": [],
   "source": [
    "import numpy as np"
   ]
  },
  {
   "cell_type": "code",
   "execution_count": 2,
   "metadata": {},
   "outputs": [],
   "source": [
    "english_score = np.array([55,89,76,65,48,70])\n",
    "math_score = np.array([60,85,60,68,np.nan,60])\n",
    "chinese_score = np.array([65,90,82,72,66,77])"
   ]
  },
  {
   "cell_type": "code",
   "execution_count": 9,
   "metadata": {},
   "outputs": [
    {
     "name": "stdout",
     "output_type": "stream",
     "text": [
      "英文成績的平均 67.16666666666667 最大值 89 最小值 48 標準差 13.433995020924426\n",
      "數學成績的平均 66.6 最大值 85.0 最小值 60.0 標準差 9.707728879609279\n",
      "國文成績的平均 75.33333333333333 最大值 90 最小值 65 標準差 8.825468196582484\n"
     ]
    }
   ],
   "source": [
    "#1. 請計算各科成績平均、最大值、最小值、標準差，其中數學缺一筆資料可忽略?\n",
    "E_mean = np.mean(english_score)\n",
    "E_max = np.max(english_score)\n",
    "E_min = np.min(english_score)\n",
    "E_std = np.std(english_score)\n",
    "print('英文成績的平均',E_mean,'最大值',E_max,'最小值',E_min,'標準差',E_std )\n",
    "M_mean = np.nanmean(math_score)\n",
    "M_max = np.nanmax(math_score)\n",
    "M_min = np.nanmin(math_score)\n",
    "M_std = np.nanstd(math_score)\n",
    "print('數學成績的平均',M_mean,'最大值',M_max,'最小值',M_min,'標準差',M_std )\n",
    "C_mean = np.nanmean(chinese_score)\n",
    "C_max = np.nanmax(chinese_score)\n",
    "C_min = np.nanmin(chinese_score)\n",
    "C_std = np.nanstd(chinese_score)\n",
    "print('國文成績的平均',C_mean,'最大值',C_max,'最小值',C_min,'標準差',C_std )"
   ]
  },
  {
   "cell_type": "code",
   "execution_count": 11,
   "metadata": {},
   "outputs": [
    {
     "name": "stdout",
     "output_type": "stream",
     "text": [
      "在同學補考後,數學成績的平均 64.66666666666667 最大值 85.0 最小值 55.0 標準差 9.860132971832694\n"
     ]
    }
   ],
   "source": [
    "#2. 第五位同學補考數學後成績為55，請計算補考後數學成績平均、最大值、最小值、標準差?\n",
    "math_score[4]=55\n",
    "M_mean = np.mean(math_score)\n",
    "M_max = np.max(math_score)\n",
    "M_min = np.min(math_score)\n",
    "M_std = np.std(math_score)\n",
    "print('在同學補考後,數學成績的平均',M_mean,'最大值',M_max,'最小值',M_min,'標準差',M_std )"
   ]
  },
  {
   "cell_type": "code",
   "execution_count": 17,
   "metadata": {},
   "outputs": [
    {
     "name": "stdout",
     "output_type": "stream",
     "text": [
      "中文數學相關係數為\n",
      " [[1.         0.74056803]\n",
      " [0.74056803 1.        ]] \n",
      " 中文英文相關係數為\n",
      " [[1.         0.97792828]\n",
      " [0.97792828 1.        ]]\n"
     ]
    }
   ],
   "source": [
    "#3. 用補考後資料找出與國文成績相關係數最高的學科?\n",
    "corrcoef_Chinese_Math=np.corrcoef(np.array([math_score,chinese_score]))\n",
    "corrcoef_Chinese_English=np.corrcoef(np.array([english_score,chinese_score]))\n",
    "print('中文數學相關係數為\\n',corrcoef_Chinese_Math,'\\n',\n",
    "     '中文英文相關係數為\\n',corrcoef_Chinese_English)"
   ]
  },
  {
   "cell_type": "code",
   "execution_count": null,
   "metadata": {},
   "outputs": [],
   "source": [
    "#3.ANS中文與英文相關係數較高"
   ]
  }
 ],
 "metadata": {
  "kernelspec": {
   "display_name": "Python 3",
   "language": "python",
   "name": "python3"
  },
  "language_info": {
   "codemirror_mode": {
    "name": "ipython",
    "version": 3
   },
   "file_extension": ".py",
   "mimetype": "text/x-python",
   "name": "python",
   "nbconvert_exporter": "python",
   "pygments_lexer": "ipython3",
   "version": "3.7.4"
  }
 },
 "nbformat": 4,
 "nbformat_minor": 2
}
